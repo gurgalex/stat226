{
 "cells": [
  {
   "cell_type": "code",
   "execution_count": 1,
   "metadata": {
    "collapsed": true
   },
   "outputs": [],
   "source": [
    "import pandas as pd\n",
    "import numpy as np\n",
    "import re\n",
    "\n",
    "import matplotlib\n",
    "import matplotlib.pyplot as plt\n",
    "%matplotlib inline\n",
    "%config InlineBackend.figure_format = 'retina'\n",
    "matplotlib.style.use('ggplot')\n",
    "plt.rcParams['savefig.dpi'] = 300"
   ]
  },
  {
   "cell_type": "markdown",
   "metadata": {},
   "source": [
    "Stat 226 Background survey. The aim of the background survey released this week was\n",
    "to collect information regarding various characteristics of the students taking Stat 226 this\n",
    "semester. Although the survey was sent to all students enrolled in the 9 Fall 2017 sections,\n",
    "the data presented in the JMP file titled BackgroundSurveyData S226F17.JMP represent the\n",
    "answers submitted by noon on Thursday, August 24-th. In this problem, you will be asked to\n",
    "analyze parts of these data, and thus summarize information about your colleagues taking Stat\n",
    "226 this semester.\n",
    "Open the data in JMP."
   ]
  },
  {
   "cell_type": "markdown",
   "metadata": {},
   "source": [
    "Forget about JMP, it's only required to convert the data storage format from `.jmp` to `.csv`.\n",
    "\n",
    "Pandas will be used instead!\n",
    "\n",
    "First, read the survey results out from the csv file and store in the variable `sd`."
   ]
  },
  {
   "cell_type": "code",
   "execution_count": 2,
   "metadata": {
    "collapsed": true
   },
   "outputs": [],
   "source": [
    "sd = pd.read_csv(\"SurveyData_S226F17.csv\")"
   ]
  },
  {
   "cell_type": "markdown",
   "metadata": {},
   "source": [
    "**a. How many students took the survey by noon on Thursday, August 24th?  Please be sure to report your answer as a number.**"
   ]
  },
  {
   "cell_type": "markdown",
   "metadata": {},
   "source": [
    "The `.info` method from the sd DataFrame provides the answer in the `RangeIndex` section as an entry count."
   ]
  },
  {
   "cell_type": "code",
   "execution_count": 3,
   "metadata": {},
   "outputs": [
    {
     "name": "stdout",
     "output_type": "stream",
     "text": [
      "<class 'pandas.core.frame.DataFrame'>\n",
      "RangeIndex: 259 entries, 0 to 258\n",
      "Data columns (total 15 columns):\n",
      "Gender                        259 non-null object\n",
      "Employment                    259 non-null object\n",
      "First Generation Indicator    259 non-null object\n",
      "New to Ames                   258 non-null object\n",
      "Classification                259 non-null object\n",
      "Favorite Restaurant           256 non-null object\n",
      "Favorite Food Type            259 non-null object\n",
      "# Caffeinated Drinks          259 non-null float64\n",
      "Height (inches)               259 non-null object\n",
      "Shoe size                     258 non-null float64\n",
      "Length of Relationship        258 non-null object\n",
      "Technology effects            258 non-null object\n",
      "Age for Electronics           258 non-null float64\n",
      "Football                      258 non-null object\n",
      "Enthusiasm                    258 non-null object\n",
      "dtypes: float64(3), object(12)\n",
      "memory usage: 30.4+ KB\n",
      "None\n"
     ]
    }
   ],
   "source": [
    "num_observations = sd.info()\n",
    "print(num_observations)"
   ]
  },
  {
   "cell_type": "markdown",
   "metadata": {},
   "source": [
    "Or, the length of the DataFrame index works as well."
   ]
  },
  {
   "cell_type": "code",
   "execution_count": 4,
   "metadata": {},
   "outputs": [
    {
     "name": "stdout",
     "output_type": "stream",
     "text": [
      "259\n"
     ]
    }
   ],
   "source": [
    "num_observations = len(sd.index)\n",
    "print(num_observations)"
   ]
  },
  {
   "cell_type": "code",
   "execution_count": 5,
   "metadata": {},
   "outputs": [
    {
     "name": "stdout",
     "output_type": "stream",
     "text": [
      "So, the answer to part a is 259 oberservations.\n"
     ]
    }
   ],
   "source": [
    "print(\"So, the answer to part a is {} oberservations.\"\n",
    "      .format(num_observations))"
   ]
  },
  {
   "cell_type": "markdown",
   "metadata": {},
   "source": [
    "**b. How many variables did we collect data on? Please be sure to report your answer as a number.**"
   ]
  },
  {
   "cell_type": "markdown",
   "metadata": {},
   "source": [
    "Pandas stores variables in columns, each column contains the data for every observation pertaining to the variable. \n",
    "\n",
    "If only there was a way to find out how many columns there were...\n",
    "\n",
    "Right!  every DataFrame has a `columns` attribute."
   ]
  },
  {
   "cell_type": "code",
   "execution_count": 6,
   "metadata": {},
   "outputs": [
    {
     "name": "stdout",
     "output_type": "stream",
     "text": [
      "So, the survey asked each student for info on 15 variables.\n"
     ]
    }
   ],
   "source": [
    "num_variables = len(sd.columns)\n",
    "print(\"So, the survey asked each student for info on {} variables.\"\n",
    "     .format(num_variables))"
   ]
  },
  {
   "cell_type": "markdown",
   "metadata": {},
   "source": [
    "**(c) Free response submission. What is the population of interest?**\n",
    "\n",
    "All 2017 Fall ISU students currently enrolled in the 9 STAT 226 sections."
   ]
  },
  {
   "cell_type": "markdown",
   "metadata": {},
   "source": [
    "**(d) Free response submission. What was the sample selected? Can this sample be considered representative of the entire population of interest? Explain.**\n",
    "\n",
    "All students in the 9 sections of STAT 226 offered during the 2017 Fall school semester who submitted answers by noon on Thursday, August 24th.\n",
    "\n",
    "The sample is represenative due to using data from all student submissions from the time period. If the sample excluded people who submitted at certain times of day or answered a question with a certain response, then it wouldn't be representative of the population."
   ]
  },
  {
   "cell_type": "markdown",
   "metadata": {},
   "source": [
    "**(e) Select all quantitative variables in this data set.**"
   ]
  },
  {
   "cell_type": "code",
   "execution_count": 7,
   "metadata": {},
   "outputs": [
    {
     "name": "stdout",
     "output_type": "stream",
     "text": [
      "The quanitative variables are \n",
      " # Caffeinated Drinks, Shoe size, Age for Electronics\n"
     ]
    }
   ],
   "source": [
    "qualitative = [x for x in sd.select_dtypes(include=[np.number]).columns]\n",
    "print(\"The quanitative variables are \\n {}\".format(', '.join(qualitative)))"
   ]
  },
  {
   "cell_type": "markdown",
   "metadata": {},
   "source": [
    "Hey, shouldn't `Length of Relalationship` be numeric as well?\n",
    "\n",
    "hmm, time to investigate"
   ]
  },
  {
   "cell_type": "code",
   "execution_count": 8,
   "metadata": {},
   "outputs": [
    {
     "name": "stdout",
     "output_type": "stream",
     "text": [
      "data type of Length of Relationship is: object\n"
     ]
    }
   ],
   "source": [
    "print(\"data type of Length of Relationship is:\", sd[\"Length of Relationship\"].dtypes)"
   ]
  },
  {
   "cell_type": "markdown",
   "metadata": {},
   "source": [
    "Pandas makes a column data type an object whenever it contains mixed types such as numbers and text.\n",
    "\n",
    "Now, how to locate the problematic mixed type data?"
   ]
  },
  {
   "cell_type": "code",
   "execution_count": 9,
   "metadata": {
    "collapsed": true
   },
   "outputs": [],
   "source": [
    "col_to_convert = [\"Height (inches)\", \"Length of Relationship\"]\n",
    "for col in col_to_convert:\n",
    "    sd[col] = [''.join(re.findall(\"\\d*\\.?\\d+\", str(item))) for item in sd[col]]"
   ]
  },
  {
   "cell_type": "markdown",
   "metadata": {},
   "source": [
    "Here's a breakdown of what's happening.\n",
    "\n",
    "First, the variables that should be numeric are put into a list to later loop over.\n",
    "\n",
    "Then, for every value in a column, numeric numbers are identified and stored in a new list.\n",
    "That list then replaces the old column data."
   ]
  },
  {
   "cell_type": "code",
   "execution_count": 10,
   "metadata": {
    "hide_input": true
   },
   "outputs": [
    {
     "data": {
      "text/html": [
       "<style>\n",
       "  table {margin-left: 0 !important;}\n",
       "</style>"
      ],
      "text/plain": [
       "<IPython.core.display.HTML object>"
      ]
     },
     "metadata": {},
     "output_type": "display_data"
    }
   ],
   "source": [
    "%%html\n",
    "<style>\n",
    "  table {margin-left: 0 !important;}\n",
    "</style>"
   ]
  },
  {
   "cell_type": "markdown",
   "metadata": {},
   "source": [
    "\n",
    "### Breakdown of the regex \\d*\\.?\\d+\n",
    "\n",
    "**tldr**: match floats, ints, or decimals.\n",
    "\n",
    "| Symbol | meaning |\n",
    "|------- | :-----|\n",
    "| * | find 0 or more occurances of the preceding expression |\n",
    "| ? | find 0 or 1 occurances of the preceding expression |\n",
    "| + | find 1 or more occurances of the preceding expression |\n",
    "| \\d | find any digit |\n",
    "\n",
    "\\d* = Find 0 or more digits \n",
    "\n",
    "\\\\.? = 0 or 1 \".\". The \"\\\" escapes the normal meaning of \".\" in re and treats it as a regular character.\n",
    "\n",
    "\\d+ = One or more digits"
   ]
  },
  {
   "cell_type": "code",
   "execution_count": 11,
   "metadata": {
    "collapsed": true,
    "scrolled": false
   },
   "outputs": [],
   "source": [
    "sd[\"Length of Relationship\"] = pd.to_numeric(sd[\"Length of Relationship\"])\n",
    "sd[\"Height (inches)\"] = pd.to_numeric(sd[\"Height (inches)\"])"
   ]
  },
  {
   "cell_type": "markdown",
   "metadata": {},
   "source": [
    "Okay, what are the numeric data types now."
   ]
  },
  {
   "cell_type": "code",
   "execution_count": 12,
   "metadata": {
    "scrolled": true
   },
   "outputs": [
    {
     "name": "stdout",
     "output_type": "stream",
     "text": [
      "The quanitative variables are \n",
      "# Caffeinated Drinks\n",
      "Height (inches)\n",
      "Shoe size\n",
      "Length of Relationship\n",
      "Age for Electronics\n"
     ]
    }
   ],
   "source": [
    "qualitative = [x for x in sd.select_dtypes(include=[np.number]).columns]\n",
    "print(\"The quanitative variables are \\n{}\".format('\\n'.join(qualitative)))"
   ]
  },
  {
   "cell_type": "markdown",
   "metadata": {},
   "source": [
    "**f. Free response submission. Create a bar chart that displays gender. Export this graph\n",
    "as .png or .jpeg and upload in Blackboard (following the same instructions as in problem\n",
    "(3d)). Based on the survey data, what proportion of students are female?**"
   ]
  },
  {
   "cell_type": "code",
   "execution_count": 13,
   "metadata": {
    "collapsed": true
   },
   "outputs": [],
   "source": [
    "sd[\"Gender\"] = sd[\"Gender\"].astype(\"category\")"
   ]
  },
  {
   "cell_type": "code",
   "execution_count": 14,
   "metadata": {},
   "outputs": [
    {
     "name": "stdout",
     "output_type": "stream",
     "text": [
      "Index(['female', 'male'], dtype='object')\n"
     ]
    }
   ],
   "source": [
    "print(sd[\"Gender\"].cat.categories)"
   ]
  },
  {
   "cell_type": "code",
   "execution_count": 15,
   "metadata": {},
   "outputs": [
    {
     "data": {
      "image/png": "[encoded data removed]",
      "text/plain": [
       "<matplotlib.figure.Figure at 0x7fb980d5dc18>"
      ]
     },
     "metadata": {
      "image/png": {
       "height": 275,
       "width": 377
      }
     },
     "output_type": "display_data"
    }
   ],
   "source": [
    "gender_comp = sd[\"Gender\"].value_counts().plot(kind='bar')\n",
    "plt.savefig(\"gender.png\")\n",
    "plt.show(gender_comp)"
   ]
  },
  {
   "cell_type": "code",
   "execution_count": 16,
   "metadata": {},
   "outputs": [
    {
     "name": "stdout",
     "output_type": "stream",
     "text": [
      "female: 35.521235521235525%\n",
      "male: 64.47876447876449%\n",
      "total: 100.00000000000001\n"
     ]
    }
   ],
   "source": [
    "gender_dist = sd[\"Gender\"].value_counts(normalize=True)\n",
    "cumul_total = 0\n",
    "for code, gender in enumerate(sd[\"Gender\"].cat.categories):\n",
    "    cumul_total += gender_dist[code] * 100\n",
    "    print(\"{}: {}%\".format(gender, gender_dist[code] * 100))\n",
    "print(\"total: {}\".format(cumul_total))\n"
   ]
  },
  {
   "cell_type": "markdown",
   "metadata": {},
   "source": [
    "Well, that's almost right. Since the calculations are done using floats there's only so many digits of precision to go around."
   ]
  },
  {
   "cell_type": "code",
   "execution_count": 29,
   "metadata": {},
   "outputs": [
    {
     "data": {
      "image/jpeg": "[encoded data removed]",
      "text/html": [
       "\n",
       "        <iframe\n",
       "            width=\"400\"\n",
       "            height=\"300\"\n",
       "            src=\"https://www.youtube.com/embed/PZRI1IfStY0\"\n",
       "            frameborder=\"0\"\n",
       "            allowfullscreen\n",
       "        ></iframe>\n",
       "        "
      ],
      "text/plain": [
       "<IPython.lib.display.YouTubeVideo at 0x7fb980b125c0>"
      ]
     },
     "execution_count": 29,
     "metadata": {},
     "output_type": "execute_result"
    }
   ],
   "source": [
    "from IPython.display import YouTubeVideo\n",
    "YouTubeVideo('PZRI1IfStY0')"
   ]
  },
  {
   "cell_type": "markdown",
   "metadata": {},
   "source": [
    "The 'female' percentage is good enough in this case."
   ]
  },
  {
   "cell_type": "code",
   "execution_count": 17,
   "metadata": {},
   "outputs": [
    {
     "name": "stdout",
     "output_type": "stream",
     "text": [
      "35.52% are female.\n"
     ]
    }
   ],
   "source": [
    "print(\"{:.2%} are female.\".format(gender_dist[\"female\"]))"
   ]
  },
  {
   "cell_type": "markdown",
   "metadata": {},
   "source": [
    "**(g) Is the value calculated in part (4f) a parameter or a statistic?**\n",
    "\n",
    "A statistic"
   ]
  },
  {
   "cell_type": "markdown",
   "metadata": {},
   "source": [
    "**(h) Create a chart that displays part-time versus full-time status. (You do NOT need to upload\n",
    "this chart.) How many students are part-time and/or working students? Please be sure to\n",
    "report your answer as a number.**"
   ]
  },
  {
   "cell_type": "markdown",
   "metadata": {},
   "source": [
    "Convert the \"Employment\" variable to be of type \"category\"\n",
    "\n",
    "Then, the 'value_counts' method gets the counts for each category. \n",
    "\n",
    "The 'plot' method of the DataFrame is told to plot as a bar chart.\n",
    "\n",
    "The figure is saved, and then shown."
   ]
  },
  {
   "cell_type": "code",
   "execution_count": 18,
   "metadata": {},
   "outputs": [
    {
     "data": {
      "image/png": "[encoded data removed]",
      "text/plain": [
       "<matplotlib.figure.Figure at 0x7fb9803e3a20>"
      ]
     },
     "metadata": {
      "image/png": {
       "height": 407,
       "width": 377
      }
     },
     "output_type": "display_data"
    }
   ],
   "source": [
    "sd[\"Employment\"] = sd[\"Employment\"].astype(\"category\")\n",
    "student_status = sd[\"Employment\"].value_counts().plot(kind='bar')\n",
    "plt.savefig(\"student_status.png\")\n",
    "plt.show(student_status)"
   ]
  },
  {
   "cell_type": "code",
   "execution_count": 19,
   "metadata": {},
   "outputs": [
    {
     "name": "stdout",
     "output_type": "stream",
     "text": [
      "11 are part-time and/or working students.\n"
     ]
    }
   ],
   "source": [
    "print(\"{} are part-time and/or working students.\"\n",
    "      .format((sd[\"Employment\"] == \"Part-time and/or working student\").sum()))"
   ]
  },
  {
   "cell_type": "markdown",
   "metadata": {},
   "source": [
    "**i. Look at the proportion of “Technology effects” separately\n",
    "by gender. To do this, simply add both variables under the Categories, X, Levels tab\n",
    "when creating a bar chart. Please notice that the order in which you specify variables\n",
    "makes a difference in how you report/interpret your answers. Export this graph as .png or\n",
    ".jpeg and upload it in Blackboard.**"
   ]
  },
  {
   "cell_type": "code",
   "execution_count": 20,
   "metadata": {},
   "outputs": [
    {
     "data": {
      "image/png": "[encoded data removed]",
      "text/plain": [
       "<matplotlib.figure.Figure at 0x7fb980be5c50>"
      ]
     },
     "metadata": {
      "image/png": {
       "height": 322,
       "width": 377
      }
     },
     "output_type": "display_data"
    }
   ],
   "source": [
    "gender_tech_effects = sd.groupby([\"Gender\"])\n",
    "graph_gender_tech_effects = gender_tech_effects[\"Technology effects\"].value_counts().plot(kind=\"bar\")\n",
    "plt.savefig(\"gender_tech_effects.png\", bbox_inches='tight')\n",
    "plt.show(graph_gender_tech_effects)"
   ]
  }
 ],
 "metadata": {
  "kernelspec": {
   "display_name": "Python 3",
   "language": "python",
   "name": "python3"
  },
  "language_info": {
   "codemirror_mode": {
    "name": "ipython",
    "version": 3
   },
   "file_extension": ".py",
   "mimetype": "text/x-python",
   "name": "python",
   "nbconvert_exporter": "python",
   "pygments_lexer": "ipython3",
   "version": "3.6.2"
  }
 },
 "nbformat": 4,
 "nbformat_minor": 2
}
