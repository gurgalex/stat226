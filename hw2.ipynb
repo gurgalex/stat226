{
 "cells": [
  {
   "cell_type": "code",
   "execution_count": 1,
   "metadata": {
    "collapsed": true
   },
   "outputs": [],
   "source": [
    "%matplotlib inline\n",
    "import pandas as pd\n",
    "import numpy as np\n",
    "import matplotlib.pyplot as plt\n",
    "plt.style = \"ggplot\"\n",
    "import seaborn as sns"
   ]
  },
  {
   "cell_type": "markdown",
   "metadata": {},
   "source": [
    "**1.\n",
    "Categorical or Quantitative?\n",
    "Airbnb is a large online marketplace for people to list, discover,\n",
    "and book unique accommodations around the world.  This online service has grown into a multi-\n",
    "billion dollar industry that is even popular right here in Ames, IA. Classify each variable below\n",
    "as categorical or quantitative.**\n",
    "> **Hint**:\n",
    "Sometimes deciding between categorical and quantitative is not as straightforward as\n",
    "we would hope. As a rule of thumb, think about whether or not numerical operations such as\n",
    "addition, multiplication, etc. are meaningful – they tend to be meaningful mainly for quantitative\n",
    "variables.  A second criterion is the number of distinct values the variable can take.  If this\n",
    "number is small, e.g. 1, 2, 3 and 4, the variable is likely categorical in nature while for a larger\n",
    "number of possible values the variable is most likely quantitative.\n",
    "\n",
    "a.   Airbnb’s total annual profit.\n",
    "> quanitative\n",
    "\n",
    "b.   Number associated with each type of rental on Airbnb ( 1= whole house, 2 = private room,\n",
    "\n",
    "3 = shared room, etc.).\n",
    "> categorical\n",
    "\n",
    "c.   Unique 10-digit reservation number for each Airbnb stay.\n",
    "> categorical\n",
    "\n",
    "d.   Number of ISU students who stayed in an Airbnb rental each week in July 2017.\n",
    "> quanitative\n",
    "\n",
    "e.   Month of the year with the most Airbnb reservations in Ames, IA.\n",
    "> categorical\n",
    "\n",
    "\n",
    "**2.\n",
    "Histogram or Bar Chart? Select which graphical display is most appropriate to describe the\n",
    "distribution for each variable. **\n",
    "> **Hint**: First determine if the variable of interest is categorical or\n",
    "quantitative.\n",
    "\n",
    "(a) Trash pick-up day for each household in Ames, IA.\n",
    "> Bar\n",
    "\n",
    "(b) Patient wait-time at ISU Thielen Student Health Center for each patient seen Monday,\n",
    "August 21, 2017 through Friday, August 25, 2017.\n",
    "> Bar\n",
    "\n",
    "(c) Number of trips taken during the 2016-2017 school year by each ISU student.\n",
    "> Histogram\n",
    "\n",
    "(d) Tax bracket of 1700 randomly selected Iowa residents.\n",
    "> Bar"
   ]
  },
  {
   "cell_type": "markdown",
   "metadata": {},
   "source": [
    "3.\n",
    "Golf A local high school golf team has eight members on their team. The scores (measured in\n",
    "strokes) for the first match of the season are listed below for each of the eight members. Answer\n",
    "this question without the use of JMP.\n",
    "\n",
    "77\n",
    "91\n",
    "75\n",
    "69\n",
    "80\n",
    "74\n",
    "88\n",
    "88\n",
    "\n",
    "(a) Calculate the mean score for the high school golf team during their first match. Report\n",
    "your answer with 3 decimal places."
   ]
  },
  {
   "cell_type": "code",
   "execution_count": 2,
   "metadata": {},
   "outputs": [
    {
     "name": "stdout",
     "output_type": "stream",
     "text": [
      "mean: 80.25\n"
     ]
    }
   ],
   "source": [
    "data = \"77 91 75 69 80 74 88 88\".split()\n",
    "data = [int(x) for x in data]\n",
    "\n",
    "mean = sum(data) / len(data)\n",
    "\n",
    "print(\"mean: {}\".format(mean))"
   ]
  },
  {
   "cell_type": "markdown",
   "metadata": {},
   "source": [
    "(b) Calculate the median score for the high school golf team during their first match. Report\n",
    "your answer with 1 decimal place.\n",
    "\n",
    "77 91 75 69 80 74 88 88 <br>\n",
    "77 75 80 74 88 88 <br>\n",
    "77 80 74 88 <br>\n",
    "77 80"
   ]
  },
  {
   "cell_type": "code",
   "execution_count": 3,
   "metadata": {},
   "outputs": [
    {
     "name": "stdout",
     "output_type": "stream",
     "text": [
      "median: 78.5\n"
     ]
    }
   ],
   "source": [
    "print(\"median: {}\".format((77 + 80) / 2))"
   ]
  },
  {
   "cell_type": "markdown",
   "metadata": {},
   "source": [
    "(c) Fill in the blank\n",
    "\n",
    "Suppose the player with the best score (in golf a low score is better)\n",
    "in the lineup above actually scored a 76. The mean score of the eight golf scores would\n",
    "\\_\\_\\_\\_\\_\\_\\_\\_. The median score of the eight golf scores would \\_\\_\\_\\_\\_\\_\\_\\_\n",
    ". We conclude that the \\_\\_\\_\\_\\_\\_\\_\\_\n",
    "is robust to extreme observations based on the first two answers.\n",
    "\n",
    "    i. stay the same, increase, median\n",
    "    \n",
    "    ii. increase, decrease, median\n",
    "\n",
    "    iii. increase, stay the same, mean\n",
    "\n",
    "    iv. increase, stay the same, median\n",
    "\n",
    "    v. increase, increase, median\n",
    "> iii. increase, stay the same, mean\n",
    "\n",
    "(d) The variance of the eight scores is 57.27. Calculate the standard deviation. Round final\n",
    "answer to the nearest 3 decimal places.\n",
    "\n",
    "Symbol for **standard deviation**: $\\sigma$ or *s*\n",
    "\n",
    "**variance**: $\\sigma^2$ or $s^2$\n",
    "\n",
    "So, to find $s$ the formula is $\\sqrt{s^2}$\n",
    "\n",
    "$s^2 = 57.27$\n",
    "\n",
    "$\\sqrt{57.27} = 7.568$\n",
    "\n",
    "(e) Which percentile does the answer in part (b) correspond to? Enter your answer as an integer without units.\n",
    "\n",
    "3\n",
    "\n",
    "(f) Free response submission. Given your answers to parts (a) and (b), what can we say\n",
    "about the shape of the distribution of the high school team’s golf scores?\n",
    "\n",
    "The data is left-skewed.\n",
    "\n",
    "Left-skew meaning that the data has a long tail to the left.  Or, the tail is in the negative direction."
   ]
  },
  {
   "cell_type": "markdown",
   "metadata": {},
   "source": [
    "4.\n",
    "**Pronto Pizza.** Recently a national chain pizza service set up near Pronto Pizza, a family owned\n",
    "business. To compete, Pronto Pizza is considering offering a 30 minute delivery guarantee. To\n",
    "get more information about the current service, a sample of deliveries during one month was\n",
    "taken, totaling 240 deliveries in the sample (8 orders per day for 30 days). Data on the Prep\n",
    "Time (time to prepare the pizza), Wait Time (time between when the pizza is done cooking to\n",
    "when a driver picks it up), and Travel Time (time from the store to a customer’s home) were\n",
    "recorded. Times are recorded in minutes. Data may be found in `ProntoPizzaTimes.jmp`.\n",
    "\n",
    "(a) **Free response submission.** Follow the steps below to use JMP to obtain a histogram\n",
    "and summary statistics for the distribution of the Wait time of the 240 deliveries.\n",
    "\n",
    "• With the data set open in JMP, click on Analyze → Distribution.\n",
    "\n",
    "• Select the variable WaitTime in the Select Columns box by clicking on it once. The\n",
    "variable should be highlighted in blue.\n",
    "\n",
    "• Click on the Y, Columns box, followed by the OK button.\n",
    "\n",
    "• You should now have a histogram and summary statistics for the variable WaitTime.\n",
    "To change the display of the histogram to a horizontal layout, click on the red triangle\n",
    "next to the variable name WaitTime and select Display Options → Horizontal\n",
    "Layout. To add a count axis to the histogram, select Histogram Options → Count\n",
    "Axis. Make sure to save the JMP output as an image file and upload to Blackboard.\n",
    "Do **not** save your file as a .jrp file."
   ]
  },
  {
   "cell_type": "code",
   "execution_count": 10,
   "metadata": {},
   "outputs": [
    {
     "data": {
      "image/png": "[encoded data removed]",
      "text/plain": [
       "<matplotlib.figure.Figure at 0x7ff1482cd0f0>"
      ]
     },
     "metadata": {},
     "output_type": "display_data"
    }
   ],
   "source": [
    "df = pd.read_csv(\"ProntoPizzaTimes.csv\")\n",
    "graph = df.hist(column=\"WaitTime\", orientation=\"horizontal\")\n",
    "plt.savefig(\"wait_time.png\")\n",
    "plt.show(graph)"
   ]
  },
  {
   "cell_type": "markdown",
   "metadata": {},
   "source": [
    "(b) Based on the JMP output, describe the overall shape of the distribution of the Wait Times\n",
    "for the 240 pizza deliveries. (Check all that apply).\n",
    "\n",
    "   i. Symmetric\n",
    "    \n",
    "   ii. Skew left \n",
    "    \n",
    "   iii. Skew right $\\checkmark$\n",
    "    \n",
    "   iv. Uniform\n",
    "    \n",
    "   v. Unimodal $\\checkmark$\n",
    "    \n",
    "   vi. Bimodal\n",
    "    \n",
    "   vii. Multi-modal"
   ]
  },
  {
   "cell_type": "markdown",
   "metadata": {},
   "source": [
    "(c) Based on the JMP output, give the five number summary of the distribution of the delivery\n",
    "wait times. Keep all decimal places reported by JMP."
   ]
  },
  {
   "cell_type": "code",
   "execution_count": 5,
   "metadata": {},
   "outputs": [
    {
     "name": "stdout",
     "output_type": "stream",
     "text": [
      "min = 0.02\n",
      "q1: 0.5175\n",
      "median: 1.255\n",
      "q3: 3.16\n",
      "max: 21.66\n"
     ]
    }
   ],
   "source": [
    "from collections import namedtuple\n",
    "\n",
    "\n",
    "def five_summary(df_column):\n",
    "    minimum, q1, q2, q3, maximum = df_column.describe()[-5:]\n",
    "    five_summary = namedtuple(\"five_summary\", [\"min\", \"q1\", \"q2\", \"q3\", \"max\"])\n",
    "    return five_summary(minimum, q1, q2, q3, maximum)\n",
    "\n",
    "\n",
    "summary = five_summary(df.WaitTime)\n",
    "print('''min = {:g}\n",
    "q1: {:g}\n",
    "median: {:g}\n",
    "q3: {:g}\n",
    "max: {:g}'''.format(\n",
    "    summary.min, summary.q1, summary.q2, summary.q3, summary.max)\n",
    ")"
   ]
  },
  {
   "cell_type": "markdown",
   "metadata": {},
   "source": [
    "(d) Based on the JMP output, calculate the range and interquartile range of the distribution of\n",
    "wait times. Use the results of the last question. Calculate keeping all decimal places\n",
    "reported by JMP."
   ]
  },
  {
   "cell_type": "code",
   "execution_count": 6,
   "metadata": {},
   "outputs": [
    {
     "name": "stdout",
     "output_type": "stream",
     "text": [
      "iqr: 2.6425\n",
      "range: 21.64\n"
     ]
    }
   ],
   "source": [
    "def iqr(df_column):\n",
    "    iqr = df_column.quantile(0.75) - df_column.quantile(0.25)\n",
    "    return iqr\n",
    "\n",
    "def range_col(df_column):\n",
    "    return df_column.max() - df_column.min()\n",
    "\n",
    "print('''iqr: {}\n",
    "range: {}'''.format(iqr(df.WaitTime), range_col(df.WaitTime)))"
   ]
  },
  {
   "cell_type": "markdown",
   "metadata": {},
   "source": [
    "(e) Using your JMP output, give the mean and standard deviation of the distribution of the\n",
    "240 wait times. Round final answer to the nearest two decimal places."
   ]
  },
  {
   "cell_type": "code",
   "execution_count": 7,
   "metadata": {},
   "outputs": [
    {
     "name": "stdout",
     "output_type": "stream",
     "text": [
      "mean: 2.53 minutes\n",
      "std: 3.26 minutes\n"
     ]
    }
   ],
   "source": [
    "print('''mean: {:.2f} minutes\n",
    "std: {:.2f} minutes'''.format(df.WaitTime.mean(), df.WaitTime.std()))"
   ]
  },
  {
   "cell_type": "markdown",
   "metadata": {},
   "source": [
    "(f) **Free response submission.** Explain the mean and standard deviation of the distribution\n",
    "of the 240 wait times in the context of the problem. Make sure you include units."
   ]
  },
  {
   "cell_type": "markdown",
   "metadata": {},
   "source": [
    "The average delievery time is 2.53 minutes and 68% of all deliveries are within +- 3.26 minutes of the average time. The company could reasonably offer a 30 minute delievery time."
   ]
  },
  {
   "cell_type": "markdown",
   "metadata": {},
   "source": [
    "(g) Based on the shape of the distribution (see (b)), which of the following is correct?\n",
    "\n",
    "    i. The median is larger than the mean because it is largely\n",
    "    influenced by the right-skewed\n",
    "    shape of the distribution and the outliers found in the data.\n",
    "\n",
    "    ii. The mean is larger than the median because it is largely\n",
    "    influenced by the right-skewed\n",
    "    shape of the distribution and the outliers found in the data.\n",
    "\n",
    "    iii. The mean is larger than the median because it is largely\n",
    "    influenced by the left-skewed\n",
    "    shape of the distribution and the outliers found in the data.\n",
    "\n",
    "    iv. The median is larger than the mean because it is largely\n",
    "    influenced by the left-skewed\n",
    "    shape of the distribution and the outliers found in the data.\n",
    "\n",
    "> ii. mean > median, right-skewed and outliers in data"
   ]
  },
  {
   "cell_type": "markdown",
   "metadata": {},
   "source": [
    "(h) **Free response submission.** Given what you have concluded about the shape of the\n",
    "distribution in part (b), which summary statistics best reflect the center and variability\n",
    "in the data: the mean and standard deviation, or the median and IQR? Explain your response."
   ]
  },
  {
   "cell_type": "markdown",
   "metadata": {},
   "source": [
    ">Given that the histogram has most values under five minutes, the data is right-skewed.  median and IQR are desirable since the company is trying to determine if most of their delivery times are under 30 minutes (all of them are in this case).  \n",
    "\n",
    ">The mean is not used due to heavy influnce by the few long delievery times. This gives a higher typical delievery time than if the median were used. The IQR gives the spread between 25% and  75% of delievery lengths."
   ]
  },
  {
   "cell_type": "markdown",
   "metadata": {},
   "source": [
    "(i) Follow the same procedure described in question 4(a) to get a histogram and five-number\n",
    "summary for the variable Prep Times (in minutes) for Pronto Pizza. Use this information\n",
    "from JMP to report the median and interquartile range for Prep Times (in minutes) for\n",
    "Pronto Pizza. Please report your answers with 2 decimal places. You do not need to\n",
    "submit your histogram or five-number summary."
   ]
  },
  {
   "cell_type": "code",
   "execution_count": 8,
   "metadata": {},
   "outputs": [
    {
     "name": "stdout",
     "output_type": "stream",
     "text": [
      "min:    11.65\n",
      "q1:     14.17\n",
      "median: 14.98\n",
      "q3:     15.70\n",
      "max:    17.43\n"
     ]
    }
   ],
   "source": [
    "summary = five_summary(df.PrepTime)\n",
    "print('''min:    {:.2f}\n",
    "q1:     {:.2f}\n",
    "median: {:.2f}\n",
    "q3:     {:.2f}\n",
    "max:    {:.2f}'''.format(\n",
    "    summary.min, summary.q1, summary.q2, summary.q3, summary.max)\n",
    ")"
   ]
  },
  {
   "cell_type": "markdown",
   "metadata": {},
   "source": [
    "(j) Below is a histogram of the Prep Times (in minutes) for Pronto Pizza. Use this histogram\n",
    "to answer the following free response questions."
   ]
  },
  {
   "cell_type": "code",
   "execution_count": 11,
   "metadata": {},
   "outputs": [
    {
     "data": {
      "image/png": "[encoded data removed]",
      "text/plain": [
       "<matplotlib.figure.Figure at 0x7ff1482eb048>"
      ]
     },
     "metadata": {},
     "output_type": "display_data"
    }
   ],
   "source": [
    "#sns.boxplot(data=df.WaitTime)\n",
    "#plot = df.PrepTime.plot(kind=\"hist\", bins=12,)\n",
    "f, (ax_box, ax_hist) = plt.subplots(2, sharex=True, \n",
    "                                    gridspec_kw={\"height_ratios\": (.15, .85)})\n",
    "sns.set()\n",
    "plt.ylabel(\"Frequency\")\n",
    "fig = sns.boxplot(df.PrepTime,\n",
    "            ax=ax_box,\n",
    "           )\n",
    "\n",
    "fig = sns.distplot(df.PrepTime,\n",
    "             axlabel=\"minutes\",\n",
    "             ax=ax_hist,\n",
    "             kde=False,\n",
    "            )"
   ]
  },
  {
   "cell_type": "markdown",
   "metadata": {},
   "source": [
    "    i. Free response submission. Describe the shape of the\n",
    "    distribution of Prep Times.\n",
    "    Comment on the shape, modality, and presence of outliers.\n",
    "\n",
    "> Looks really close to a bell-shaped curve with the most frequent values being in the middle of the dataset. The modality is unimodal since there is only one predominant mode.\n",
    "\n",
    "> The box plot shows one dot thus one outlier.\n",
    "\n",
    "    ii. Free response submission. Someone claims that only 25% of\n",
    "    the prep times took less than 15 minutes. Is this claim\n",
    "    supported by the data? Explain why or why not.\n",
    "    \n",
    "> No, the median, q2, or 50% of the prep times are below 15 minutes of prep time.  25% of the data is the value of q1 @ 14.17 minutes."
   ]
  }
 ],
 "metadata": {
  "hide_input": false,
  "kernelspec": {
   "display_name": "Python 3",
   "language": "python",
   "name": "python3"
  },
  "language_info": {
   "codemirror_mode": {
    "name": "ipython",
    "version": 3
   },
   "file_extension": ".py",
   "mimetype": "text/x-python",
   "name": "python",
   "nbconvert_exporter": "python",
   "pygments_lexer": "ipython3",
   "version": "3.6.2"
  }
 },
 "nbformat": 4,
 "nbformat_minor": 2
}
