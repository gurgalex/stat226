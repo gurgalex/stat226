{
 "cells": [
  {
   "cell_type": "code",
   "execution_count": 14,
   "metadata": {
    "collapsed": true
   },
   "outputs": [],
   "source": [
    "import numpy as np\n",
    "import scipy\n",
    "import pandas as pd\n",
    "import matplotlib.pyplot as plt\n",
    "import seaborn as sns\n",
    "%matplotlib inline"
   ]
  },
  {
   "cell_type": "markdown",
   "metadata": {},
   "source": [
    "Suppose a random variable,\n",
    "X, follows a Normal distribution.\n",
    "Specifically, X∼N(55,σ= 2.3). Now, suppose we are going to roll a fair pentagonal trapezo-hedron die once (the die starts at a value of 1), the random variable, Y, represents the possible values we observe on the upper-most face of the die."
   ]
  },
  {
   "cell_type": "markdown",
   "metadata": {},
   "source": [
    "(a)  What values can be observed from the random variable\n",
    "X\n",
    "?"
   ]
  },
  {
   "cell_type": "markdown",
   "metadata": {},
   "source": [
    "Infinite, while increasingly unlikely, there could be a data point 100 standard deviations away from the mean."
   ]
  },
  {
   "cell_type": "markdown",
   "metadata": {},
   "source": [
    "(b)  What values can be observed from the random variable\n",
    "Y\n",
    "?"
   ]
  },
  {
   "cell_type": "code",
   "execution_count": 3,
   "metadata": {},
   "outputs": [
    {
     "name": "stdout",
     "output_type": "stream",
     "text": [
      "1, 2, 3, 4, 5, 6, 7, 8, 9, 10, "
     ]
    }
   ],
   "source": [
    "import sys\n",
    "y_data = np.arange(1,11)\n",
    "np.savetxt(sys.stdout, y_data, newline=\", \", fmt=\"%s\")"
   ]
  },
  {
   "cell_type": "markdown",
   "metadata": {},
   "source": [
    "(c)  What is the shape of the distribution for the random variable\n",
    "X\n",
    "?"
   ]
  },
  {
   "cell_type": "markdown",
   "metadata": {},
   "source": [
    "Normalized"
   ]
  },
  {
   "cell_type": "markdown",
   "metadata": {},
   "source": [
    "(d)  What is the shape of the distribution for the random variable\n",
    "Y\n",
    "?"
   ]
  },
  {
   "cell_type": "markdown",
   "metadata": {},
   "source": [
    "Uniform"
   ]
  },
  {
   "cell_type": "markdown",
   "metadata": {},
   "source": [
    "(e)  What is the value of the standard deviation for the random variable\n",
    "X\n",
    "?"
   ]
  },
  {
   "cell_type": "markdown",
   "metadata": {},
   "source": [
    "2.3"
   ]
  },
  {
   "cell_type": "markdown",
   "metadata": {},
   "source": [
    "(f)  What is the total area under the density curve for the random variable\n",
    "X\n",
    "?"
   ]
  },
  {
   "cell_type": "markdown",
   "metadata": {},
   "source": [
    "1"
   ]
  },
  {
   "cell_type": "markdown",
   "metadata": {},
   "source": [
    "(g)  50% of the values are above and below what number for the random variable\n",
    "Y\n",
    "?"
   ]
  },
  {
   "cell_type": "code",
   "execution_count": 4,
   "metadata": {},
   "outputs": [
    {
     "data": {
      "text/plain": [
       "5.5"
      ]
     },
     "execution_count": 4,
     "metadata": {},
     "output_type": "execute_result"
    }
   ],
   "source": [
    "y_data.mean()"
   ]
  },
  {
   "cell_type": "markdown",
   "metadata": {},
   "source": [
    "(h)  What is the value of the mode for the random variable\n",
    "X\n",
    "?"
   ]
  },
  {
   "cell_type": "markdown",
   "metadata": {},
   "source": [
    "55"
   ]
  },
  {
   "cell_type": "markdown",
   "metadata": {},
   "source": [
    "(i)\n",
    "Free response submission.\n",
    "For each of the variables\n",
    "X\n",
    "and\n",
    "Y\n",
    "identify whether they are\n",
    "discrete or continuous and explain why."
   ]
  },
  {
   "cell_type": "markdown",
   "metadata": {},
   "source": [
    "X: continuous, the values can take on the form of any real number.\n",
    "Y: discrete, the values are limited to integers from 1 - 10."
   ]
  },
  {
   "cell_type": "markdown",
   "metadata": {},
   "source": [
    "2.\n",
    "Soybeans.\n",
    "Soybean yield in Iowa was historically low in 2012.  Yield of soybeans (bushels per\n",
    "acre) in Iowa during 2012 can be described by a Normal distribution with a mean of 51 bushels\n",
    "per acre and a standard deviation of 8 bushels per acre.  Use\n",
    "the 68-95-99.7 Rule (Empirical\n",
    "Rule)\n",
    "to answer the following questions"
   ]
  },
  {
   "cell_type": "code",
   "execution_count": 5,
   "metadata": {
    "collapsed": true
   },
   "outputs": [],
   "source": [
    "mean = 51\n",
    "stdev = 8"
   ]
  },
  {
   "cell_type": "markdown",
   "metadata": {},
   "source": [
    "(a)  Use the template above to create a well labeled normal curve for the soybean yield (bushels\n",
    "per acre) in Iowa during 2012.  On this graph numerically label the mean (iv), the center\n",
    "68% (iii) and (v), the center 95% (ii) and (vi) and the center 99.7% (i) and (vii).  Report\n",
    "answers  (i)  through  (vii.)   in  Blackboard.   You  should  also  use  this  picture  to  help  you\n",
    "answer the next few questions."
   ]
  },
  {
   "cell_type": "code",
   "execution_count": 6,
   "metadata": {},
   "outputs": [
    {
     "name": "stdout",
     "output_type": "stream",
     "text": [
      "i. -3σ: 27\n",
      "ii. -2σ: 35\n",
      "iii. -σ: 43\n",
      "iv. mean: 51\n",
      "v. σ: 59\n",
      "vi. 2σ: 67\n",
      "vii. 3σ: 75\n"
     ]
    }
   ],
   "source": [
    "stdev_n3 = i = mean - 3 * stdev\n",
    "stdev_n2 = ii = mean - 2 * stdev\n",
    "stdev_n1 = iii = mean - stdev\n",
    "iv = mean\n",
    "stdev_p1 = v = mean + stdev\n",
    "stdev_p2 = vi = mean + 2 * stdev\n",
    "stdev_p3 = vii = mean + 3 * stdev\n",
    "\n",
    "print(\"i. -3\" + \"\\u03C3\" + \":\", stdev_n3)\n",
    "print(\"ii. -2\" + \"\\u03C3\" + \":\", stdev_n2)\n",
    "print(\"iii. -\" + \"\\u03C3\" + \":\", stdev_n1)\n",
    "print(\"iv. mean\" + \":\", mean)\n",
    "print(\"v.\", \"\\u03C3\" + \":\", stdev_p1)\n",
    "print(\"vi. 2\" + \"\\u03C3\" + \":\", stdev_p2)\n",
    "print(\"vii. 3\" + \"\\u03C3\" + \":\", stdev_p3)"
   ]
  },
  {
   "cell_type": "markdown",
   "metadata": {},
   "source": [
    "(b)  The middle 95% of counties have a soybean yield\n",
    "between\n",
    "what two values?"
   ]
  },
  {
   "cell_type": "code",
   "execution_count": 7,
   "metadata": {},
   "outputs": [
    {
     "name": "stdout",
     "output_type": "stream",
     "text": [
      "35 and 67\n"
     ]
    }
   ],
   "source": [
    "print(\"{} and {}\".format(stdev_n2, stdev_p2))"
   ]
  },
  {
   "cell_type": "markdown",
   "metadata": {},
   "source": [
    "(c)  What is the value of the 16\n",
    "th\n",
    "percentile of soybean yield for counties in Iowa?"
   ]
  },
  {
   "cell_type": "code",
   "execution_count": 8,
   "metadata": {},
   "outputs": [
    {
     "name": "stdout",
     "output_type": "stream",
     "text": [
      "43\n"
     ]
    }
   ],
   "source": [
    "print(stdev_n1)"
   ]
  },
  {
   "cell_type": "markdown",
   "metadata": {},
   "source": [
    "(d)  What proportion of counties have a soybean yield\n",
    "between\n",
    "35 and 75 bushels per acre?"
   ]
  },
  {
   "cell_type": "code",
   "execution_count": 9,
   "metadata": {},
   "outputs": [
    {
     "data": {
      "text/plain": [
       "0.947"
      ]
     },
     "execution_count": 9,
     "metadata": {},
     "output_type": "execute_result"
    }
   ],
   "source": [
    "# 75 -> mean + 3stdev (0.997)\n",
    "# 35 -> mean - 2stdev (1 - 0.95 = 0.05)\n",
    "0.997 - 0.05 "
   ]
  },
  {
   "cell_type": "markdown",
   "metadata": {},
   "source": [
    "(e)  0.15% of counties have a soybean yield\n",
    "less than or equal to what value?"
   ]
  },
  {
   "cell_type": "code",
   "execution_count": 10,
   "metadata": {},
   "outputs": [
    {
     "name": "stdout",
     "output_type": "stream",
     "text": [
      "27\n"
     ]
    }
   ],
   "source": [
    "print(stdev_n3)"
   ]
  },
  {
   "cell_type": "markdown",
   "metadata": {},
   "source": [
    "(f)  What proportion of counties have a soybean yield of\n",
    "at most\n",
    "67 bushels per acre?"
   ]
  },
  {
   "cell_type": "code",
   "execution_count": 11,
   "metadata": {},
   "outputs": [
    {
     "data": {
      "text/plain": [
       "0.95"
      ]
     },
     "execution_count": 11,
     "metadata": {},
     "output_type": "execute_result"
    }
   ],
   "source": [
    "# 67 -> 2stdev -> 0.95\n",
    "0.95"
   ]
  },
  {
   "cell_type": "code",
   "execution_count": 12,
   "metadata": {
    "collapsed": true
   },
   "outputs": [],
   "source": [
    "def add(a: int, b: int) -> int:\n",
    "    '''Adds two numbers and return result'''\n",
    "    return a + b"
   ]
  },
  {
   "cell_type": "code",
   "execution_count": 13,
   "metadata": {},
   "outputs": [
    {
     "data": {
      "text/plain": [
       "<function __main__.add>"
      ]
     },
     "execution_count": 13,
     "metadata": {},
     "output_type": "execute_result"
    }
   ],
   "source": [
    "add"
   ]
  },
  {
   "cell_type": "markdown",
   "metadata": {},
   "source": [
    "3.\n",
    "\n",
    "State Income Taxes.  All 50 U.S. states are given the ability to set their own state income tax rates, which is measured as a proportion of an individuals gross income.  In a recent study of state income taxes it was discovered that income tax rates for all 50 states follow a Normal\n",
    "distribution with mean 5.0 and a standard deviation 0.75. \n",
    "State income tax rates are reported as a (proportion × 100).\n",
    "Use this information to answer the following questions."
   ]
  },
  {
   "cell_type": "markdown",
   "metadata": {},
   "source": [
    "a. What is the probability a state is charging an income tax rate greater than 3.9?\n",
    "Answer this question by completing parts (i) and (ii).\n",
    "\n",
    "i. Provide the z-score corresponding to the income tax rate of 3.9."
   ]
  },
  {
   "cell_type": "code",
   "execution_count": 122,
   "metadata": {},
   "outputs": [],
   "source": [
    "from typing import List\n",
    "\n",
    "def center(zscore):\n",
    "    return 1 - scipy.stats.norm.sf(zscore) * 2\n",
    "\n",
    "def right(zscore):\n",
    "    return scipy.stats.norm.sf(zscore)\n",
    "\n",
    "def left(zscore):\n",
    "    return scipy.stats.norm.sf(zscore)\n",
    "\n",
    "def no_center(zscore):\n",
    "    return 1 - center(zscore)\n",
    "\n",
    "def zscore_to_prob(zscore: float, area: List[str]=[\"center\"]) -> float: \n",
    "    '''Given a zscore, return a decimal probability\n",
    "    area default is center.\n",
    "    area supports {center, left, right, no_center}'''\n",
    "    \n",
    "    areas = {\n",
    "        \"center\": center,\n",
    "        \"left\": left,\n",
    "        \"no_center\": no_center,\n",
    "        \"right\": right,\n",
    "    }\n",
    "    \n",
    "    probs = (areas[str(x)](zscore) for x in area)\n",
    "    return sum(probs)\n",
    "\n",
    "def to_zscore(value, u, stdev):\n",
    "    return (value - u) / stdev"
   ]
  },
  {
   "cell_type": "code",
   "execution_count": 114,
   "metadata": {},
   "outputs": [
    {
     "data": {
      "text/plain": [
       "0.65993936018890664"
      ]
     },
     "execution_count": 114,
     "metadata": {},
     "output_type": "execute_result"
    }
   ],
   "source": [
    "zscore_to_prob(1, area=[\"center\"]) - zscore_to_prob(2, [\"left\"])\n",
    "zscore_to_prob"
   ]
  },
  {
   "cell_type": "code",
   "execution_count": 125,
   "metadata": {},
   "outputs": [
    {
     "name": "stdout",
     "output_type": "stream",
     "text": [
      "zscore for tax rate 3.9:  -1.4666666666666668\n"
     ]
    }
   ],
   "source": [
    "mean = 5.0\n",
    "stdev = 0.75\n",
    "tax_39 = to_zscore(3.9, u=mean, stdev=stdev)\n",
    "print(\"zscore for tax rate 3.9: \", tax_39)"
   ]
  },
  {
   "cell_type": "markdown",
   "metadata": {},
   "source": [
    "ii. Based on your answer in (i), what is the probability a state is charging an income tax rate greater than 3.9?"
   ]
  },
  {
   "cell_type": "code",
   "execution_count": 127,
   "metadata": {},
   "outputs": [
    {
     "data": {
      "text/plain": [
       "0.92876662258601383"
      ]
     },
     "execution_count": 127,
     "metadata": {},
     "output_type": "execute_result"
    }
   ],
   "source": [
    "zscore_to_prob(tax_39, [\"right\"])"
   ]
  },
  {
   "cell_type": "markdown",
   "metadata": {},
   "source": [
    "(b)  What is the probability a state is charging an income tax rate less than 5.3?\n",
    "Answer this question by completing parts (i) and (ii).\n",
    "\n",
    "i. Provide the z-score corresponding to the income tax rate of 5.3."
   ]
  },
  {
   "cell_type": "code",
   "execution_count": 181,
   "metadata": {},
   "outputs": [
    {
     "name": "stdout",
     "output_type": "stream",
     "text": [
      "0.40\n"
     ]
    }
   ],
   "source": [
    "zscore = to_zscore(5.3, u=mean, stdev=stdev)\n",
    "print(\"{:.2f}\"\n",
    "      .format(zscore))"
   ]
  },
  {
   "cell_type": "markdown",
   "metadata": {},
   "source": [
    "ii. Based on your answer in (i), what is the probability a state is charging an income tax\n",
    "rate less than 5.3?"
   ]
  },
  {
   "cell_type": "code",
   "execution_count": 138,
   "metadata": {},
   "outputs": [
    {
     "name": "stdout",
     "output_type": "stream",
     "text": [
      "Less than 5.3: 0.34457825839\n"
     ]
    }
   ],
   "source": [
    "print(\"Less than 5.3:\", zscore_to_prob(zscore, [\"left\"]))"
   ]
  },
  {
   "cell_type": "markdown",
   "metadata": {},
   "source": [
    "(c) Find Q1 (First Quartile). Answer this question by completing parts (i) and (ii).\n",
    "\n",
    "i. Provide the z-score corresponding to Q1."
   ]
  },
  {
   "cell_type": "code",
   "execution_count": 180,
   "metadata": {},
   "outputs": [
    {
     "name": "stdout",
     "output_type": "stream",
     "text": [
      "Q1: -0.6744897501960817\n"
     ]
    }
   ],
   "source": [
    "# Turns out scipy as cdf (zscore) and ppf (percentile to zscore)\n",
    "import scipy.stats as st\n",
    "\n",
    "q1 = st.norm.ppf(0.25)\n",
    "print(\"Q1: {}\"\n",
    "      .format(q1))"
   ]
  },
  {
   "cell_type": "markdown",
   "metadata": {},
   "source": [
    "ii. Based on your answer in (i), provide the value of Q1."
   ]
  },
  {
   "cell_type": "code",
   "execution_count": 146,
   "metadata": {
    "collapsed": true
   },
   "outputs": [],
   "source": [
    "def zval(zscore, u, stdev):\n",
    "    return u + stdev * zscore"
   ]
  },
  {
   "cell_type": "code",
   "execution_count": 179,
   "metadata": {},
   "outputs": [
    {
     "name": "stdout",
     "output_type": "stream",
     "text": [
      "Q1 value: 4.494132687352939\n"
     ]
    }
   ],
   "source": [
    "print(\"Q1 value: {}\"\n",
    "      .format(zval(q1, u=mean, stdev=stdev)))"
   ]
  },
  {
   "cell_type": "markdown",
   "metadata": {},
   "source": [
    "(d) Find Q3 (Third Quartile).  Answer this question by completing parts (i) and (ii).\n",
    "\n",
    "i. Provide the z-score corresponding to Q3."
   ]
  },
  {
   "cell_type": "code",
   "execution_count": 178,
   "metadata": {},
   "outputs": [
    {
     "name": "stdout",
     "output_type": "stream",
     "text": [
      "q3 zscore 0.6744897501960817\n"
     ]
    }
   ],
   "source": [
    "q3z = st.norm.ppf(0.75)\n",
    "print(\"q3 zscore {}\"\n",
    "      .format(q3z))"
   ]
  },
  {
   "cell_type": "markdown",
   "metadata": {},
   "source": [
    "ii. Based on your answer in (i), provide the value of Q3."
   ]
  },
  {
   "cell_type": "code",
   "execution_count": 177,
   "metadata": {},
   "outputs": [
    {
     "name": "stdout",
     "output_type": "stream",
     "text": [
      "Q3 value: 5.505867312647061\n"
     ]
    }
   ],
   "source": [
    "print(\"Q3 value: {}\"\n",
    "      .format(zval(q3z, u=mean, stdev=stdev)))"
   ]
  },
  {
   "cell_type": "markdown",
   "metadata": {},
   "source": [
    "(e)  What is the value of the IQR for the distribution of income tax rates for all 50 states?"
   ]
  },
  {
   "cell_type": "code",
   "execution_count": 154,
   "metadata": {},
   "outputs": [
    {
     "name": "stdout",
     "output_type": "stream",
     "text": [
      "1.01173462529\n"
     ]
    }
   ],
   "source": [
    "q3val = zval(st.norm.ppf(0.75), u=mean, stdev=stdev)\n",
    "q1val = zval(st.norm.ppf(0.25), u=mean, stdev=stdev)\n",
    "\n",
    "print(q3val - q1val)"
   ]
  },
  {
   "cell_type": "markdown",
   "metadata": {},
   "source": [
    "(f)  What is the income tax rate such that only 12.1% of all other states charge a higher income tax rate?  Answer this question by completing parts (i) and (ii).\n",
    "\n",
    "i.  Provide the z-score corresponding to the above statement."
   ]
  },
  {
   "cell_type": "code",
   "execution_count": 161,
   "metadata": {},
   "outputs": [
    {
     "name": "stdout",
     "output_type": "stream",
     "text": [
      "1.1700024075\n"
     ]
    }
   ],
   "source": [
    "zscore = st.norm.ppf(1 - 0.121)\n",
    "print(zscore)"
   ]
  },
  {
   "cell_type": "markdown",
   "metadata": {},
   "source": [
    "ii.  Based on your answer in (i), what is the income tax rate such that only 12.1% of all\n",
    "other states charge a higher income tax rate?"
   ]
  },
  {
   "cell_type": "code",
   "execution_count": 162,
   "metadata": {},
   "outputs": [
    {
     "name": "stdout",
     "output_type": "stream",
     "text": [
      "5.87750180563\n"
     ]
    }
   ],
   "source": [
    "tax_rate = zval(zscore, u=mean, stdev=stdev)\n",
    "print(tax_rate)"
   ]
  },
  {
   "cell_type": "markdown",
   "metadata": {},
   "source": [
    "iii.  What percentile does the income tax rate obtained in part (ii) correspond to?  (Enter the value as a whole number, not a proportion.)"
   ]
  },
  {
   "cell_type": "code",
   "execution_count": 176,
   "metadata": {},
   "outputs": [
    {
     "name": "stdout",
     "output_type": "stream",
     "text": [
      "88\n"
     ]
    }
   ],
   "source": [
    "print(\"{}\"\n",
    "      .format(int(round(st.norm.cdf(zscore) * 100))))"
   ]
  },
  {
   "cell_type": "markdown",
   "metadata": {},
   "source": [
    "(g)  What proportion of states charge an income tax rate within 1.25 standard deviations from\n",
    "the mean?  Answer this question by completing parts (i) through (iii).\n",
    "\n",
    "i.  Provide the SMALLER z-score corresponding to the above statement."
   ]
  },
  {
   "cell_type": "markdown",
   "metadata": {},
   "source": [
    "-1.25"
   ]
  },
  {
   "cell_type": "markdown",
   "metadata": {},
   "source": [
    "ii.  Provide the LARGER z-score corresponding to the above statement."
   ]
  },
  {
   "cell_type": "markdown",
   "metadata": {},
   "source": [
    "1.25"
   ]
  },
  {
   "cell_type": "markdown",
   "metadata": {},
   "source": [
    "iii.  Based on your answers in (i) and (ii), what proportion of states charge an income tax rate within 1.25 standard deviations from the mean?"
   ]
  },
  {
   "cell_type": "code",
   "execution_count": 184,
   "metadata": {},
   "outputs": [
    {
     "name": "stdout",
     "output_type": "stream",
     "text": [
      "0.788700452666\n"
     ]
    }
   ],
   "source": [
    "print(zscore_to_prob(1.25, area=[\"center\"]))"
   ]
  },
  {
   "cell_type": "code",
   "execution_count": 187,
   "metadata": {},
   "outputs": [
    {
     "data": {
      "text/plain": [
       "0.7887004526662893"
      ]
     },
     "execution_count": 187,
     "metadata": {},
     "output_type": "execute_result"
    }
   ],
   "source": [
    "# Right filled - left filled zscore = center\n",
    "st.norm.cdf(1.25) - st.norm.cdf(-1.25)"
   ]
  },
  {
   "cell_type": "markdown",
   "metadata": {},
   "source": [
    "(h)\n",
    "Free response submission.\n",
    "Which state is more unusual, Nebraska with an income tax rate of 6.84 or Colorado with an income tax rate of 4.63?  Explain your answer."
   ]
  },
  {
   "cell_type": "code",
   "execution_count": 204,
   "metadata": {},
   "outputs": [
    {
     "name": "stdout",
     "output_type": "stream",
     "text": [
      "Nebraska: 2.453333333333333\n",
      "Colorado: -0.49333333333333346\n",
      "Nebraska is more unusual due to a higher absolute zscore!\n"
     ]
    }
   ],
   "source": [
    "nebraska = 6.84\n",
    "colorado = 4.63\n",
    "\n",
    "def val_to_zscore(val, u, stdev):\n",
    "    return (val - u) / stdev\n",
    "\n",
    "zscore_nebraska = val_to_zscore(nebraska, u=mean, stdev=stdev)\n",
    "zscore_colorado = val_to_zscore(colorado, u=mean, stdev=stdev)\n",
    "\n",
    "print(\"Nebraska: {}\".format(zscore_nebraska))\n",
    "print(\"Colorado: {}\".format(zscore_colorado))\n",
    "\n",
    "print(\"{} is more unusual due to a higher absolute zscore!\"\n",
    "      .format(\"Colorado\"\n",
    "              if zscore_colorado > zscore_nebraska\n",
    "              else \"Nebraska\"))"
   ]
  },
  {
   "cell_type": "markdown",
   "metadata": {},
   "source": [
    "(i)\n",
    "Free response submission.\n",
    "Let’s say you live in a state with a relatively average income\n",
    "tax rate of 4.67.  Provide an interpretation of your state’s income tax rate, i.e.  what can you say about the percentage of all other states that have a higher or lower income tax rate than yours?"
   ]
  },
  {
   "cell_type": "code",
   "execution_count": 222,
   "metadata": {},
   "outputs": [
    {
     "name": "stdout",
     "output_type": "stream",
     "text": [
      "32.997% states have a lower tax rate than I. \n",
      "67.003% states have a higher tax rate than I.\n"
     ]
    }
   ],
   "source": [
    "zscore_my_state = val_to_zscore(4.67, u=mean, stdev=stdev)\n",
    "percentage_below_my_state = st.norm.cdf(zscore_my_state) * 100\n",
    "percentage_above_my_state = 100 - percentage_below_my_state\n",
    "\n",
    "print(\"{:.3f}% states have a lower tax rate than I.\"\n",
    "     .format(percentage_below_my_state),\n",
    "     \"\\n{:.3f}% states have a higher tax rate than I.\"\n",
    "     .format(percentage_above_my_state))"
   ]
  },
  {
   "cell_type": "markdown",
   "metadata": {},
   "source": [
    "(j)\n",
    "Free  response  submission.\n",
    "Would  the  mean  or  median  of  the  distribution  for  state\n",
    "income tax rates be more useful to the IRS? Explain your answer."
   ]
  },
  {
   "cell_type": "markdown",
   "metadata": {},
   "source": [
    "The mean. The purpose of collecting taxes is to fund government activity and services. With no indication that the data is skewed or has any outliers either will work for estimating total income tax collected for the nation."
   ]
  },
  {
   "cell_type": "markdown",
   "metadata": {},
   "source": [
    "## 4. Iowa Unemployment.\n",
    "\n",
    "A professor at Iowa State has a dataset from an unknown year con-\n",
    "sisting of the unemployment rates for all 99 counties in the state of Iowa.  The professor asks her\n",
    "students to conduct a statistical analysis of the data and reiterates that they may use any approach they deem necessary.  One of the students recalls that the Normal distribution is a widely\n",
    "used density within the world of statistics and decides to conduct the analysis assuming all 99 counties unemployment rates follow a Normal distribution with mean μ and standard deviation σ. Use the data found in\n",
    "`Unemployment.jmp`\n",
    "to answer the following questions regarding the\n",
    "students analytic approach.  Unemployment rates are reported as\n",
    "a (proportion × 100)."
   ]
  },
  {
   "cell_type": "code",
   "execution_count": 225,
   "metadata": {},
   "outputs": [
    {
     "data": {
      "text/html": [
       "<div>\n",
       "<style>\n",
       "    .dataframe thead tr:only-child th {\n",
       "        text-align: right;\n",
       "    }\n",
       "\n",
       "    .dataframe thead th {\n",
       "        text-align: left;\n",
       "    }\n",
       "\n",
       "    .dataframe tbody tr th {\n",
       "        vertical-align: top;\n",
       "    }\n",
       "</style>\n",
       "<table border=\"1\" class=\"dataframe\">\n",
       "  <thead>\n",
       "    <tr style=\"text-align: right;\">\n",
       "      <th></th>\n",
       "      <th>Unemployment rate</th>\n",
       "    </tr>\n",
       "  </thead>\n",
       "  <tbody>\n",
       "    <tr>\n",
       "      <th>count</th>\n",
       "      <td>99.000000</td>\n",
       "    </tr>\n",
       "    <tr>\n",
       "      <th>mean</th>\n",
       "      <td>3.958788</td>\n",
       "    </tr>\n",
       "    <tr>\n",
       "      <th>std</th>\n",
       "      <td>2.554365</td>\n",
       "    </tr>\n",
       "    <tr>\n",
       "      <th>min</th>\n",
       "      <td>0.220000</td>\n",
       "    </tr>\n",
       "    <tr>\n",
       "      <th>25%</th>\n",
       "      <td>2.050000</td>\n",
       "    </tr>\n",
       "    <tr>\n",
       "      <th>50%</th>\n",
       "      <td>3.500000</td>\n",
       "    </tr>\n",
       "    <tr>\n",
       "      <th>75%</th>\n",
       "      <td>5.550000</td>\n",
       "    </tr>\n",
       "    <tr>\n",
       "      <th>max</th>\n",
       "      <td>12.250000</td>\n",
       "    </tr>\n",
       "  </tbody>\n",
       "</table>\n",
       "</div>"
      ],
      "text/plain": [
       "       Unemployment rate\n",
       "count          99.000000\n",
       "mean            3.958788\n",
       "std             2.554365\n",
       "min             0.220000\n",
       "25%             2.050000\n",
       "50%             3.500000\n",
       "75%             5.550000\n",
       "max            12.250000"
      ]
     },
     "execution_count": 225,
     "metadata": {},
     "output_type": "execute_result"
    }
   ],
   "source": [
    "df_unemployment = pd.read_csv(\"Unemployment.csv\")\n",
    "df_unemployment.describe()"
   ]
  },
  {
   "cell_type": "markdown",
   "metadata": {},
   "source": [
    "(a)  Using the JMP file provided, what are the values of\n",
    "μ and σ for this Normal model?\n",
    "\n",
    "i.  Record the value for μ.  (Round your answer to 2 decimal places)"
   ]
  },
  {
   "cell_type": "code",
   "execution_count": 231,
   "metadata": {},
   "outputs": [
    {
     "name": "stdout",
     "output_type": "stream",
     "text": [
      "mean: 3.96\n"
     ]
    }
   ],
   "source": [
    "mean = df_unemployment.mean()[0]\n",
    "print(\"mean: {:.2f}\"\n",
    "     .format(mean))"
   ]
  },
  {
   "cell_type": "markdown",
   "metadata": {},
   "source": [
    "ii.  Record the value for σ.  (Round your answer to 2 decimal places)"
   ]
  },
  {
   "cell_type": "code",
   "execution_count": 234,
   "metadata": {},
   "outputs": [
    {
     "name": "stdout",
     "output_type": "stream",
     "text": [
      "stdev: 2.55\n"
     ]
    }
   ],
   "source": [
    "stdev = df_unemployment.std()[0]\n",
    "print(\"stdev: {:.2f}\"\n",
    "     .format(stdev))"
   ]
  },
  {
   "cell_type": "markdown",
   "metadata": {},
   "source": [
    "(b)  Assume the unemployment rates take on a Normal distribution with mean 4.0 and standard\n",
    "deviation 2.6.  Find the probability a county has an unemployment rate greater than 8.108."
   ]
  },
  {
   "cell_type": "markdown",
   "metadata": {},
   "source": [
    "(c)  Again, assume the unemployment rates take on a Normal distribution with mean 4.0 and\n",
    "standard deviation 2.6. What is the unemployment rate such that only 5.71% of all counties\n",
    "have an unemployment rate smaller than that value?"
   ]
  },
  {
   "cell_type": "markdown",
   "metadata": {},
   "source": [
    "(d)\n",
    "Free response submission.\n",
    "Use JMP to create a histogram and boxplot of the unem-\n",
    "ployment rates (you do not need to upload the histogram or boxplot).  Based on the JMP\n",
    "output,  describe  the  overall  shape  of  the  distribution  of  unemployment  rates  for  the  99\n",
    "counties in Iowa."
   ]
  },
  {
   "cell_type": "markdown",
   "metadata": {},
   "source": [
    "(e)\n",
    "Free response submission.\n",
    "The lowest attainable unemployment rate is considered to\n",
    "be the ”natural rate of unemployment.” This ”natural rate of unemployment” is required\n",
    "to  be > 0.   Recall  that  the  Normal  distribution  can  take  on  any  possible  value.   Using\n",
    "your answer to parts (4c) and (4d) give two reasons why it might not be okay using this\n",
    "student’s statistical approach of the unemployment rates for all counties in Iowa."
   ]
  },
  {
   "cell_type": "code",
   "execution_count": null,
   "metadata": {
    "collapsed": true
   },
   "outputs": [],
   "source": []
  }
 ],
 "metadata": {
  "kernelspec": {
   "display_name": "Python 3",
   "language": "python",
   "name": "python3"
  },
  "language_info": {
   "codemirror_mode": {
    "name": "ipython",
    "version": 3
   },
   "file_extension": ".py",
   "mimetype": "text/x-python",
   "name": "python",
   "nbconvert_exporter": "python",
   "pygments_lexer": "ipython3",
   "version": "3.6.1"
  }
 },
 "nbformat": 4,
 "nbformat_minor": 2
}
